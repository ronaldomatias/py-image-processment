{
 "cells": [
  {
   "cell_type": "code",
   "execution_count": 17,
   "id": "d32534de",
   "metadata": {},
   "outputs": [],
   "source": [
    "import cv2\n",
    "import mediapipe as mp\n",
    "\n",
    "capture_service = cv2.VideoCapture(0)\n",
    "chosen_solution = mp.solutions.face_detection\n",
    "face_detector_service = chosen_solution.FaceDetection()\n",
    "drawer_service = mp.solutions.drawing_utils\n",
    "\n",
    "while cv2.waitKey(5) != 27:\n",
    "\n",
    "    has_frame, frame = capture_service.read()\n",
    "    if not has_frame:\n",
    "        break\n",
    "    \n",
    "    rostos_identificados = face_detector_service.process(frame)\n",
    "    if rostos_identificados.detections:\n",
    "        for rosto in rostos_identificados.detections:\n",
    "            drawer_service.draw_detection(frame, rosto)\n",
    "            cv2.imshow(\"Webcam\", frame)\n",
    "\n",
    "\n",
    "capture_service.release()\n",
    "cv2.destroyAllWindows()\n"
   ]
  },
  {
   "cell_type": "code",
   "execution_count": 16,
   "id": "6ef52de8",
   "metadata": {},
   "outputs": [
    {
     "ename": "SyntaxError",
     "evalue": "invalid syntax (2286712872.py, line 3)",
     "output_type": "error",
     "traceback": [
      "\u001b[1;36m  Input \u001b[1;32mIn [16]\u001b[1;36m\u001b[0m\n\u001b[1;33m    codec / file extension / file size / CodecID given by Mediainfo / Player\u001b[0m\n\u001b[1;37m                 ^\u001b[0m\n\u001b[1;31mSyntaxError\u001b[0m\u001b[1;31m:\u001b[0m invalid syntax\n"
     ]
    }
   ],
   "source": [
    "# Comparação entre diferentes formatos de vídeo.\n",
    "\n",
    "codec / file extension / file size / CodecID given by Mediainfo / Player\n",
    "\n",
    "– / avi / 112512 kB / I420 / WMP, VLC, Films&TV, MovieMaker\n",
    "MJPG / avi / 14115 kB / MJPG / VLC\n",
    "MJPG / mp4 / 5111 kB / 6C / VLC\n",
    "CVID / avi / 7459 kB / cvid / WMP, VLC, MovieMaker\n",
    "MSVC / avi / 83082 kB / CRAM / WMP, VLC\n",
    "X264 / avi / 187 kB / H264 / WMP, VLC, Films&TV, MovieMaker\n",
    "XVID / avi / 601 kB / XVID / WMP, VLC, MovieMaker\n",
    "XVID / mp4 / 587 kB / 20 / WMP, VLC, Films&TV, MovieMaker"
   ]
  },
  {
   "cell_type": "code",
   "execution_count": null,
   "id": "d54059f5",
   "metadata": {},
   "outputs": [],
   "source": []
  }
 ],
 "metadata": {
  "kernelspec": {
   "display_name": "Python 3 (ipykernel)",
   "language": "python",
   "name": "python3"
  },
  "language_info": {
   "codemirror_mode": {
    "name": "ipython",
    "version": 3
   },
   "file_extension": ".py",
   "mimetype": "text/x-python",
   "name": "python",
   "nbconvert_exporter": "python",
   "pygments_lexer": "ipython3",
   "version": "3.9.12"
  }
 },
 "nbformat": 4,
 "nbformat_minor": 5
}
